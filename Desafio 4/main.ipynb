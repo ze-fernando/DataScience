{
 "cells": [
  {
   "cell_type": "markdown",
   "id": "b8d5fc43",
   "metadata": {},
   "source": [
    "## Passo 1\n",
    "\n",
    "### Realizar importações e ler nossa planilha"
   ]
  },
  {
   "cell_type": "code",
   "execution_count": 114,
   "id": "c4146b64-f71f-4607-abda-e2ab18d9196d",
   "metadata": {},
   "outputs": [
    {
     "name": "stdout",
     "output_type": "stream",
     "text": [
      "<class 'pandas.core.frame.DataFrame'>\n",
      "RangeIndex: 49 entries, 0 to 48\n",
      "Data columns (total 5 columns):\n",
      " #   Column              Non-Null Count  Dtype \n",
      "---  ------              --------------  ----- \n",
      " 0   Cliente             49 non-null     int64 \n",
      " 1   Nome                49 non-null     object\n",
      " 2   Valor Pago          49 non-null     int64 \n",
      " 3   Valor Total Devido  49 non-null     int64 \n",
      " 4   Email               49 non-null     object\n",
      "dtypes: int64(3), object(2)\n",
      "memory usage: 2.0+ KB\n"
     ]
    }
   ],
   "source": [
    "import pandas as pd\n",
    "from func import send_mail\n",
    "\n",
    "df = pd.read_excel(r'pagamentos.xlsx')\n",
    "\n",
    "df.info()"
   ]
  },
  {
   "cell_type": "markdown",
   "metadata": {},
   "source": [
    "## Passo 2\n",
    "### Filtar os dados para trabalharmos\n",
    "\n",
    "- Vamos dropar a coluna *Cliente* pelo fato de ser desnecessária para nosso contexto"
   ]
  },
  {
   "cell_type": "code",
   "execution_count": 115,
   "id": "19e066f9",
   "metadata": {},
   "outputs": [],
   "source": [
    "df = df.drop(\"Cliente\", axis=1)"
   ]
  },
  {
   "cell_type": "code",
   "execution_count": 116,
   "id": "af69da04",
   "metadata": {},
   "outputs": [
    {
     "data": {
      "text/html": [
       "<div>\n",
       "<style scoped>\n",
       "    .dataframe tbody tr th:only-of-type {\n",
       "        vertical-align: middle;\n",
       "    }\n",
       "\n",
       "    .dataframe tbody tr th {\n",
       "        vertical-align: top;\n",
       "    }\n",
       "\n",
       "    .dataframe thead th {\n",
       "        text-align: right;\n",
       "    }\n",
       "</style>\n",
       "<table border=\"1\" class=\"dataframe\">\n",
       "  <thead>\n",
       "    <tr style=\"text-align: right;\">\n",
       "      <th></th>\n",
       "      <th>Nome</th>\n",
       "      <th>Valor Pago</th>\n",
       "      <th>Valor Total Devido</th>\n",
       "      <th>Email</th>\n",
       "    </tr>\n",
       "  </thead>\n",
       "  <tbody>\n",
       "    <tr>\n",
       "      <th>0</th>\n",
       "      <td>José</td>\n",
       "      <td>8950</td>\n",
       "      <td>8950</td>\n",
       "      <td>email_do_cliente+1@gmail.com</td>\n",
       "    </tr>\n",
       "    <tr>\n",
       "      <th>1</th>\n",
       "      <td>Maria</td>\n",
       "      <td>8950</td>\n",
       "      <td>8950</td>\n",
       "      <td>email_do_cliente+2@gmail.com</td>\n",
       "    </tr>\n",
       "    <tr>\n",
       "      <th>2</th>\n",
       "      <td>João</td>\n",
       "      <td>8950</td>\n",
       "      <td>8950</td>\n",
       "      <td>email_do_cliente+3@gmail.com</td>\n",
       "    </tr>\n",
       "    <tr>\n",
       "      <th>3</th>\n",
       "      <td>Antônio</td>\n",
       "      <td>8950</td>\n",
       "      <td>8950</td>\n",
       "      <td>email_do_cliente+4@gmail.com</td>\n",
       "    </tr>\n",
       "    <tr>\n",
       "      <th>4</th>\n",
       "      <td>Francisco</td>\n",
       "      <td>8950</td>\n",
       "      <td>8950</td>\n",
       "      <td>email_do_cliente+5@gmail.com</td>\n",
       "    </tr>\n",
       "  </tbody>\n",
       "</table>\n",
       "</div>"
      ],
      "text/plain": [
       "        Nome  Valor Pago  Valor Total Devido                         Email\n",
       "0       José        8950                8950  email_do_cliente+1@gmail.com\n",
       "1      Maria        8950                8950  email_do_cliente+2@gmail.com\n",
       "2       João        8950                8950  email_do_cliente+3@gmail.com\n",
       "3    Antônio        8950                8950  email_do_cliente+4@gmail.com\n",
       "4  Francisco        8950                8950  email_do_cliente+5@gmail.com"
      ]
     },
     "execution_count": 116,
     "metadata": {},
     "output_type": "execute_result"
    }
   ],
   "source": [
    "df.head()"
   ]
  },
  {
   "cell_type": "markdown",
   "id": "e4e998a2",
   "metadata": {},
   "source": [
    "- Percebemos que temos clientes que ja quitaram a divida, então vamos fazer a filtragem para obtermos apenas os clientes que ainda tem pendências financeiras"
   ]
  },
  {
   "cell_type": "code",
   "execution_count": 117,
   "id": "2c27c529",
   "metadata": {},
   "outputs": [
    {
     "data": {
      "text/html": [
       "<div>\n",
       "<style scoped>\n",
       "    .dataframe tbody tr th:only-of-type {\n",
       "        vertical-align: middle;\n",
       "    }\n",
       "\n",
       "    .dataframe tbody tr th {\n",
       "        vertical-align: top;\n",
       "    }\n",
       "\n",
       "    .dataframe thead th {\n",
       "        text-align: right;\n",
       "    }\n",
       "</style>\n",
       "<table border=\"1\" class=\"dataframe\">\n",
       "  <thead>\n",
       "    <tr style=\"text-align: right;\">\n",
       "      <th></th>\n",
       "      <th>Nome</th>\n",
       "      <th>Valor Pago</th>\n",
       "      <th>Valor Total Devido</th>\n",
       "      <th>Email</th>\n",
       "    </tr>\n",
       "  </thead>\n",
       "  <tbody>\n",
       "    <tr>\n",
       "      <th>6</th>\n",
       "      <td>Paulo</td>\n",
       "      <td>8341</td>\n",
       "      <td>8950</td>\n",
       "      <td>email_do_cliente+7@gmail.com</td>\n",
       "    </tr>\n",
       "    <tr>\n",
       "      <th>7</th>\n",
       "      <td>Pedro</td>\n",
       "      <td>2763</td>\n",
       "      <td>8950</td>\n",
       "      <td>email_do_cliente+8@gmail.com</td>\n",
       "    </tr>\n",
       "    <tr>\n",
       "      <th>13</th>\n",
       "      <td>Rafael</td>\n",
       "      <td>5223</td>\n",
       "      <td>8950</td>\n",
       "      <td>email_do_cliente+14@gmail.com</td>\n",
       "    </tr>\n",
       "    <tr>\n",
       "      <th>27</th>\n",
       "      <td>Fernanda</td>\n",
       "      <td>5777</td>\n",
       "      <td>8950</td>\n",
       "      <td>email_do_cliente+28@gmail.com</td>\n",
       "    </tr>\n",
       "    <tr>\n",
       "      <th>30</th>\n",
       "      <td>Sandra</td>\n",
       "      <td>1300</td>\n",
       "      <td>8950</td>\n",
       "      <td>email_do_cliente+31@gmail.com</td>\n",
       "    </tr>\n",
       "    <tr>\n",
       "      <th>31</th>\n",
       "      <td>Camila</td>\n",
       "      <td>3394</td>\n",
       "      <td>8950</td>\n",
       "      <td>email_do_cliente+32@gmail.com</td>\n",
       "    </tr>\n",
       "    <tr>\n",
       "      <th>32</th>\n",
       "      <td>Amanda</td>\n",
       "      <td>1261</td>\n",
       "      <td>8950</td>\n",
       "      <td>email_do_cliente+33@gmail.com</td>\n",
       "    </tr>\n",
       "    <tr>\n",
       "      <th>35</th>\n",
       "      <td>Leticia</td>\n",
       "      <td>3673</td>\n",
       "      <td>8950</td>\n",
       "      <td>email_do_cliente+36@gmail.com</td>\n",
       "    </tr>\n",
       "    <tr>\n",
       "      <th>40</th>\n",
       "      <td>Amanda</td>\n",
       "      <td>2490</td>\n",
       "      <td>8950</td>\n",
       "      <td>email_do_cliente+41@gmail.com</td>\n",
       "    </tr>\n",
       "  </tbody>\n",
       "</table>\n",
       "</div>"
      ],
      "text/plain": [
       "        Nome  Valor Pago  Valor Total Devido                          Email\n",
       "6      Paulo        8341                8950   email_do_cliente+7@gmail.com\n",
       "7      Pedro        2763                8950   email_do_cliente+8@gmail.com\n",
       "13    Rafael        5223                8950  email_do_cliente+14@gmail.com\n",
       "27  Fernanda        5777                8950  email_do_cliente+28@gmail.com\n",
       "30    Sandra        1300                8950  email_do_cliente+31@gmail.com\n",
       "31    Camila        3394                8950  email_do_cliente+32@gmail.com\n",
       "32    Amanda        1261                8950  email_do_cliente+33@gmail.com\n",
       "35   Leticia        3673                8950  email_do_cliente+36@gmail.com\n",
       "40    Amanda        2490                8950  email_do_cliente+41@gmail.com"
      ]
     },
     "execution_count": 117,
     "metadata": {},
     "output_type": "execute_result"
    }
   ],
   "source": [
    "df = df.loc[df[\"Valor Total Devido\"] > df['Valor Pago']]\n",
    "\n",
    "df"
   ]
  },
  {
   "cell_type": "markdown",
   "id": "1de95f02",
   "metadata": {},
   "source": [
    "## Passo 3\n",
    "### Organizar nossa tabela\n",
    "\n",
    "- Criei a coluna *Divida* para indetificar e guardar apenas o valor a ser cobrado\n",
    "\n",
    "OBS: O desafio não fala nada sobre juros"
   ]
  },
  {
   "cell_type": "code",
   "execution_count": 118,
   "id": "cc6cb335",
   "metadata": {},
   "outputs": [
    {
     "data": {
      "text/html": [
       "<div>\n",
       "<style scoped>\n",
       "    .dataframe tbody tr th:only-of-type {\n",
       "        vertical-align: middle;\n",
       "    }\n",
       "\n",
       "    .dataframe tbody tr th {\n",
       "        vertical-align: top;\n",
       "    }\n",
       "\n",
       "    .dataframe thead th {\n",
       "        text-align: right;\n",
       "    }\n",
       "</style>\n",
       "<table border=\"1\" class=\"dataframe\">\n",
       "  <thead>\n",
       "    <tr style=\"text-align: right;\">\n",
       "      <th></th>\n",
       "      <th>Nome</th>\n",
       "      <th>Email</th>\n",
       "      <th>Divida</th>\n",
       "    </tr>\n",
       "  </thead>\n",
       "  <tbody>\n",
       "    <tr>\n",
       "      <th>32</th>\n",
       "      <td>Amanda</td>\n",
       "      <td>email_do_cliente+33@gmail.com</td>\n",
       "      <td>7689</td>\n",
       "    </tr>\n",
       "    <tr>\n",
       "      <th>30</th>\n",
       "      <td>Sandra</td>\n",
       "      <td>email_do_cliente+31@gmail.com</td>\n",
       "      <td>7650</td>\n",
       "    </tr>\n",
       "    <tr>\n",
       "      <th>40</th>\n",
       "      <td>Amanda</td>\n",
       "      <td>email_do_cliente+41@gmail.com</td>\n",
       "      <td>6460</td>\n",
       "    </tr>\n",
       "    <tr>\n",
       "      <th>7</th>\n",
       "      <td>Pedro</td>\n",
       "      <td>email_do_cliente+8@gmail.com</td>\n",
       "      <td>6187</td>\n",
       "    </tr>\n",
       "    <tr>\n",
       "      <th>31</th>\n",
       "      <td>Camila</td>\n",
       "      <td>email_do_cliente+32@gmail.com</td>\n",
       "      <td>5556</td>\n",
       "    </tr>\n",
       "    <tr>\n",
       "      <th>35</th>\n",
       "      <td>Leticia</td>\n",
       "      <td>email_do_cliente+36@gmail.com</td>\n",
       "      <td>5277</td>\n",
       "    </tr>\n",
       "    <tr>\n",
       "      <th>13</th>\n",
       "      <td>Rafael</td>\n",
       "      <td>email_do_cliente+14@gmail.com</td>\n",
       "      <td>3727</td>\n",
       "    </tr>\n",
       "    <tr>\n",
       "      <th>27</th>\n",
       "      <td>Fernanda</td>\n",
       "      <td>email_do_cliente+28@gmail.com</td>\n",
       "      <td>3173</td>\n",
       "    </tr>\n",
       "    <tr>\n",
       "      <th>6</th>\n",
       "      <td>Paulo</td>\n",
       "      <td>email_do_cliente+7@gmail.com</td>\n",
       "      <td>609</td>\n",
       "    </tr>\n",
       "  </tbody>\n",
       "</table>\n",
       "</div>"
      ],
      "text/plain": [
       "        Nome                          Email  Divida\n",
       "32    Amanda  email_do_cliente+33@gmail.com    7689\n",
       "30    Sandra  email_do_cliente+31@gmail.com    7650\n",
       "40    Amanda  email_do_cliente+41@gmail.com    6460\n",
       "7      Pedro   email_do_cliente+8@gmail.com    6187\n",
       "31    Camila  email_do_cliente+32@gmail.com    5556\n",
       "35   Leticia  email_do_cliente+36@gmail.com    5277\n",
       "13    Rafael  email_do_cliente+14@gmail.com    3727\n",
       "27  Fernanda  email_do_cliente+28@gmail.com    3173\n",
       "6      Paulo   email_do_cliente+7@gmail.com     609"
      ]
     },
     "execution_count": 118,
     "metadata": {},
     "output_type": "execute_result"
    }
   ],
   "source": [
    "df = df.assign(Divida=df[\"Valor Total Devido\"] - df['Valor Pago'])\\\n",
    "    .sort_values('Divida', ascending=False)\n",
    "    \n",
    "df = df.drop(columns=['Valor Pago', 'Valor Total Devido'])\n",
    "\n",
    "df"
   ]
  },
  {
   "cell_type": "markdown",
   "id": "974d3995",
   "metadata": {},
   "source": [
    "## Passo 5\n",
    "### Enviado de fato os emails\n",
    "\n",
    "- Utilizei a função `iterrows` para percorrer nosso dataframe\n",
    "- A função [send_mail](./func.py) envia os emails utilizando as libs do desafio 1\n"
   ]
  },
  {
   "cell_type": "code",
   "execution_count": null,
   "id": "2e555bf6",
   "metadata": {},
   "outputs": [],
   "source": [
    "for i, row in df.iterrows():\n",
    "    send_mail(row['Nome'], row['Divida'], row['Email'])\n"
   ]
  }
 ],
 "metadata": {
  "kernelspec": {
   "display_name": ".env",
   "language": "python",
   "name": "python3"
  },
  "language_info": {
   "codemirror_mode": {
    "name": "ipython",
    "version": 3
   },
   "file_extension": ".py",
   "mimetype": "text/x-python",
   "name": "python",
   "nbconvert_exporter": "python",
   "pygments_lexer": "ipython3",
   "version": "3.12.6"
  }
 },
 "nbformat": 4,
 "nbformat_minor": 5
}
